{
 "cells": [
  {
   "cell_type": "markdown",
   "id": "ae1bf439",
   "metadata": {},
   "source": [
    "### Final Project: Music Genre Classification with CNN"
   ]
  },
  {
   "cell_type": "markdown",
   "id": "a13feb26",
   "metadata": {},
   "source": [
    "### Setup and Imports"
   ]
  },
  {
   "cell_type": "code",
   "execution_count": null,
   "id": "ce89157f",
   "metadata": {},
   "outputs": [],
   "source": [
    "# Import necessary libraries\n",
    "import os\n",
    "import numpy as np\n",
    "import pandas as pd\n",
    "import matplotlib.pyplot as plt\n",
    "import seaborn as sns\n",
    "import librosa\n",
    "import librosa.display\n",
    "import IPython.display as ipd\n",
    "\n",
    "from sklearn.model_selection import train_test_split\n",
    "from sklearn.preprocessing import StandardScaler, LabelEncoder\n"
   ]
  },
  {
   "cell_type": "markdown",
   "id": "d4eace97",
   "metadata": {},
   "source": [
    "### Step 1: Dataset Selection and Loading"
   ]
  },
  {
   "cell_type": "markdown",
   "id": "f81e8290",
   "metadata": {},
   "source": [
    "**Justification:**\n",
    "\n",
    "- The GTZAN dataset is a supervised learning dataset with audio files labeled by music genre.\n",
    "- It contains A collection of 10 genres with 100 audio files each, all having a length of 30 seconds (the famous GTZAN dataset, the MNIST of sounds) and is widely used in music genre classification studies.\n",
    "- For our project, we plan to compare deep learning models (RNN/CNN) against traditional ML models."
   ]
  },
  {
   "cell_type": "code",
   "execution_count": 78,
   "id": "cbad2fb3",
   "metadata": {},
   "outputs": [
    {
     "name": "stdout",
     "output_type": "stream",
     "text": [
      "Dataset loaded successfully!\n",
      "\n",
      "First 5 records:\n",
      "            filename  length  chroma_stft_mean  chroma_stft_var  rms_mean  \\\n",
      "0  blues.00000.0.wav   66149          0.335406         0.091048  0.130405   \n",
      "1  blues.00000.1.wav   66149          0.343065         0.086147  0.112699   \n",
      "2  blues.00000.2.wav   66149          0.346815         0.092243  0.132003   \n",
      "3  blues.00000.3.wav   66149          0.363639         0.086856  0.132565   \n",
      "4  blues.00000.4.wav   66149          0.335579         0.088129  0.143289   \n",
      "\n",
      "    rms_var  spectral_centroid_mean  spectral_centroid_var  \\\n",
      "0  0.003521             1773.065032          167541.630869   \n",
      "1  0.001450             1816.693777           90525.690866   \n",
      "2  0.004620             1788.539719          111407.437613   \n",
      "3  0.002448             1655.289045          111952.284517   \n",
      "4  0.001701             1630.656199           79667.267654   \n",
      "\n",
      "   spectral_bandwidth_mean  spectral_bandwidth_var  ...  mfcc16_var  \\\n",
      "0              1972.744388           117335.771563  ...   39.687145   \n",
      "1              2010.051501            65671.875673  ...   64.748276   \n",
      "2              2084.565132            75124.921716  ...   67.336563   \n",
      "3              1960.039988            82913.639269  ...   47.739452   \n",
      "4              1948.503884            60204.020268  ...   30.336359   \n",
      "\n",
      "   mfcc17_mean  mfcc17_var  mfcc18_mean  mfcc18_var  mfcc19_mean  mfcc19_var  \\\n",
      "0    -3.241280   36.488243     0.722209   38.099152    -5.050335   33.618073   \n",
      "1    -6.055294   40.677654     0.159015   51.264091    -2.837699   97.030830   \n",
      "2    -1.768610   28.348579     2.378768   45.717648    -1.938424   53.050835   \n",
      "3    -3.841155   28.337118     1.218588   34.770935    -3.580352   50.836224   \n",
      "4     0.664582   45.880913     1.689446   51.363583    -3.392489   26.738789   \n",
      "\n",
      "   mfcc20_mean  mfcc20_var  label  \n",
      "0    -0.243027   43.771767  blues  \n",
      "1     5.784063   59.943081  blues  \n",
      "2     2.517375   33.105122  blues  \n",
      "3     3.630866   32.023678  blues  \n",
      "4     0.536961   29.146694  blues  \n",
      "\n",
      "[5 rows x 60 columns]\n"
     ]
    }
   ],
   "source": [
    "# Function to load and explore the dataset\n",
    "try:\n",
    "    data_df = pd.read_csv(\"features_3_sec.csv\")\n",
    "    print(\"Dataset loaded successfully!\")\n",
    "except Exception as e:\n",
    "    print(\"Error loading dataset:\", e)\n",
    "\n",
    "# Exploration of the dataset\n",
    "print(\"\\nFirst 5 records:\")\n",
    "print(data_df.head())"
   ]
  },
  {
   "cell_type": "code",
   "execution_count": 81,
   "id": "080925c2",
   "metadata": {},
   "outputs": [
    {
     "name": "stdout",
     "output_type": "stream",
     "text": [
      "\n",
      "Dataset shape: (9990, 60)\n",
      "\n",
      "Statistical summary:\n",
      "        length  chroma_stft_mean  chroma_stft_var     rms_mean       rms_var  \\\n",
      "count   9990.0       9990.000000      9990.000000  9990.000000  9.990000e+03   \n",
      "mean   66149.0          0.379534         0.084876     0.130859  2.676388e-03   \n",
      "std        0.0          0.090466         0.009637     0.068545  3.585628e-03   \n",
      "min    66149.0          0.107108         0.015345     0.000953  4.379535e-08   \n",
      "25%    66149.0          0.315698         0.079833     0.083782  6.145900e-04   \n",
      "50%    66149.0          0.384741         0.085108     0.121253  1.491318e-03   \n",
      "75%    66149.0          0.442443         0.091092     0.176328  3.130862e-03   \n",
      "max    66149.0          0.749481         0.120964     0.442567  3.261522e-02   \n",
      "\n",
      "       spectral_centroid_mean  spectral_centroid_var  spectral_bandwidth_mean  \\\n",
      "count             9990.000000           9.990000e+03              9990.000000   \n",
      "mean              2199.219431           4.166727e+05              2241.385959   \n",
      "std                751.860611           4.349644e+05               543.854449   \n",
      "min                472.741636           8.118813e+02               499.162910   \n",
      "25%               1630.680158           1.231961e+05              1887.455790   \n",
      "50%               2208.628236           2.650692e+05              2230.575595   \n",
      "75%               2712.581884           5.624152e+05              2588.340505   \n",
      "max               5432.534406           4.794119e+06              3708.147554   \n",
      "\n",
      "       spectral_bandwidth_var  rolloff_mean  ...  mfcc16_mean   mfcc16_var  \\\n",
      "count            9.990000e+03   9990.000000  ...  9990.000000  9990.000000   \n",
      "mean             1.182711e+05   4566.076592  ...     1.448240    49.988755   \n",
      "std              1.013505e+05   1642.065335  ...     5.735149    34.442816   \n",
      "min              1.183520e+03    658.336276  ...   -26.850016     1.325786   \n",
      "25%              4.876553e+04   3378.311110  ...    -2.227478    29.584894   \n",
      "50%              8.996072e+04   4631.377892  ...     1.461623    41.702393   \n",
      "75%              1.585674e+05   5591.634521  ...     5.149752    59.274619   \n",
      "max              1.235143e+06   9487.446477  ...    39.144405   683.932556   \n",
      "\n",
      "       mfcc17_mean   mfcc17_var  mfcc18_mean   mfcc18_var  mfcc19_mean  \\\n",
      "count  9990.000000  9990.000000  9990.000000  9990.000000  9990.000000   \n",
      "mean     -4.198706    51.962753     0.739943    52.488851    -2.497306   \n",
      "std       5.677379    36.400669     5.181313    38.177120     5.111799   \n",
      "min     -27.809795     1.624544   -20.733809     3.437439   -27.448456   \n",
      "25%      -7.951722    29.863448    -2.516638    29.636197    -5.734123   \n",
      "50%      -4.443021    42.393583     0.733772    41.831377    -2.702366   \n",
      "75%      -0.726945    61.676964     3.888734    62.033906     0.514246   \n",
      "max      34.048843   529.363342    36.970322   629.729797    31.365425   \n",
      "\n",
      "        mfcc19_var  mfcc20_mean   mfcc20_var  \n",
      "count  9990.000000  9990.000000  9990.000000  \n",
      "mean     54.973829    -0.917584    57.322614  \n",
      "std      41.585677     5.253243    46.444212  \n",
      "min       3.065302   -35.640659     0.282131  \n",
      "25%      30.496412    -4.004475    30.011365  \n",
      "50%      43.435253    -1.030939    44.332155  \n",
      "75%      65.328602     2.216603    68.210421  \n",
      "max    1143.230591    34.212101   910.473206  \n",
      "\n",
      "[8 rows x 58 columns]\n"
     ]
    }
   ],
   "source": [
    "# Shape of the dataset\n",
    "print(\"\\nDataset shape:\", data_df.shape)\n",
    "print(\"\\nStatistical summary:\")\n",
    "print(data_df.describe())"
   ]
  },
  {
   "cell_type": "code",
   "execution_count": 80,
   "id": "d1ff03e6",
   "metadata": {},
   "outputs": [
    {
     "name": "stdout",
     "output_type": "stream",
     "text": [
      "\n",
      "Data types:\n",
      "filename                    object\n",
      "length                       int64\n",
      "chroma_stft_mean           float64\n",
      "chroma_stft_var            float64\n",
      "rms_mean                   float64\n",
      "rms_var                    float64\n",
      "spectral_centroid_mean     float64\n",
      "spectral_centroid_var      float64\n",
      "spectral_bandwidth_mean    float64\n",
      "spectral_bandwidth_var     float64\n",
      "rolloff_mean               float64\n",
      "rolloff_var                float64\n",
      "zero_crossing_rate_mean    float64\n",
      "zero_crossing_rate_var     float64\n",
      "harmony_mean               float64\n",
      "harmony_var                float64\n",
      "perceptr_mean              float64\n",
      "perceptr_var               float64\n",
      "tempo                      float64\n",
      "mfcc1_mean                 float64\n",
      "mfcc1_var                  float64\n",
      "mfcc2_mean                 float64\n",
      "mfcc2_var                  float64\n",
      "mfcc3_mean                 float64\n",
      "mfcc3_var                  float64\n",
      "mfcc4_mean                 float64\n",
      "mfcc4_var                  float64\n",
      "mfcc5_mean                 float64\n",
      "mfcc5_var                  float64\n",
      "mfcc6_mean                 float64\n",
      "mfcc6_var                  float64\n",
      "mfcc7_mean                 float64\n",
      "mfcc7_var                  float64\n",
      "mfcc8_mean                 float64\n",
      "mfcc8_var                  float64\n",
      "mfcc9_mean                 float64\n",
      "mfcc9_var                  float64\n",
      "mfcc10_mean                float64\n",
      "mfcc10_var                 float64\n",
      "mfcc11_mean                float64\n",
      "mfcc11_var                 float64\n",
      "mfcc12_mean                float64\n",
      "mfcc12_var                 float64\n",
      "mfcc13_mean                float64\n",
      "mfcc13_var                 float64\n",
      "mfcc14_mean                float64\n",
      "mfcc14_var                 float64\n",
      "mfcc15_mean                float64\n",
      "mfcc15_var                 float64\n",
      "mfcc16_mean                float64\n",
      "mfcc16_var                 float64\n",
      "mfcc17_mean                float64\n",
      "mfcc17_var                 float64\n",
      "mfcc18_mean                float64\n",
      "mfcc18_var                 float64\n",
      "mfcc19_mean                float64\n",
      "mfcc19_var                 float64\n",
      "mfcc20_mean                float64\n",
      "mfcc20_var                 float64\n",
      "label                       object\n",
      "dtype: object\n"
     ]
    }
   ],
   "source": [
    "# Data types\n",
    "print(\"\\nData types:\")\n",
    "print(data_df.dtypes)"
   ]
  },
  {
   "cell_type": "code",
   "execution_count": 82,
   "id": "c89e6773",
   "metadata": {},
   "outputs": [
    {
     "name": "stdout",
     "output_type": "stream",
     "text": [
      "\n",
      "Genre distribution in the dataset:\n",
      "label\n",
      "blues        1000\n",
      "jazz         1000\n",
      "metal        1000\n",
      "pop          1000\n",
      "reggae       1000\n",
      "disco         999\n",
      "classical     998\n",
      "hiphop        998\n",
      "rock          998\n",
      "country       997\n",
      "Name: count, dtype: int64\n"
     ]
    }
   ],
   "source": [
    "# Distribution of genres\n",
    "print(\"\\nGenre distribution in the dataset:\")\n",
    "print(data_df['label'].value_counts())"
   ]
  },
  {
   "cell_type": "markdown",
   "id": "3dcda530",
   "metadata": {},
   "source": [
    "### Step 2: Data Cleaning"
   ]
  },
  {
   "cell_type": "code",
   "execution_count": 83,
   "id": "7e1eb87c",
   "metadata": {},
   "outputs": [
    {
     "name": "stdout",
     "output_type": "stream",
     "text": [
      "Missing values by column:\n",
      "filename                   0\n",
      "length                     0\n",
      "chroma_stft_mean           0\n",
      "chroma_stft_var            0\n",
      "rms_mean                   0\n",
      "rms_var                    0\n",
      "spectral_centroid_mean     0\n",
      "spectral_centroid_var      0\n",
      "spectral_bandwidth_mean    0\n",
      "spectral_bandwidth_var     0\n",
      "rolloff_mean               0\n",
      "rolloff_var                0\n",
      "zero_crossing_rate_mean    0\n",
      "zero_crossing_rate_var     0\n",
      "harmony_mean               0\n",
      "harmony_var                0\n",
      "perceptr_mean              0\n",
      "perceptr_var               0\n",
      "tempo                      0\n",
      "mfcc1_mean                 0\n",
      "mfcc1_var                  0\n",
      "mfcc2_mean                 0\n",
      "mfcc2_var                  0\n",
      "mfcc3_mean                 0\n",
      "mfcc3_var                  0\n",
      "mfcc4_mean                 0\n",
      "mfcc4_var                  0\n",
      "mfcc5_mean                 0\n",
      "mfcc5_var                  0\n",
      "mfcc6_mean                 0\n",
      "mfcc6_var                  0\n",
      "mfcc7_mean                 0\n",
      "mfcc7_var                  0\n",
      "mfcc8_mean                 0\n",
      "mfcc8_var                  0\n",
      "mfcc9_mean                 0\n",
      "mfcc9_var                  0\n",
      "mfcc10_mean                0\n",
      "mfcc10_var                 0\n",
      "mfcc11_mean                0\n",
      "mfcc11_var                 0\n",
      "mfcc12_mean                0\n",
      "mfcc12_var                 0\n",
      "mfcc13_mean                0\n",
      "mfcc13_var                 0\n",
      "mfcc14_mean                0\n",
      "mfcc14_var                 0\n",
      "mfcc15_mean                0\n",
      "mfcc15_var                 0\n",
      "mfcc16_mean                0\n",
      "mfcc16_var                 0\n",
      "mfcc17_mean                0\n",
      "mfcc17_var                 0\n",
      "mfcc18_mean                0\n",
      "mfcc18_var                 0\n",
      "mfcc19_mean                0\n",
      "mfcc19_var                 0\n",
      "mfcc20_mean                0\n",
      "mfcc20_var                 0\n",
      "label                      0\n",
      "dtype: int64\n"
     ]
    }
   ],
   "source": [
    "# Check and handle missing values\n",
    "print(\"Missing values by column:\")\n",
    "print(data_df.isnull().sum())"
   ]
  },
  {
   "cell_type": "code",
   "execution_count": 84,
   "id": "85b7283d",
   "metadata": {},
   "outputs": [],
   "source": [
    "# Detect and remove outliers function using IQR method on numeric columns\n",
    "def detect_outliers_iqr(data_df, column):\n",
    "    \"\"\"\n",
    "    Detect outliers in a specified column using the IQR method.\n",
    "    Returns a DataFrame containing only the outlier rows.\n",
    "    \"\"\"\n",
    "    Q1 = data_df[column].quantile(0.25)\n",
    "    Q3 = data_df[column].quantile(0.75)\n",
    "    IQR = Q3 - Q1\n",
    "    \n",
    "    lower_bound = Q1 - 1.5 * IQR\n",
    "    upper_bound = Q3 + 1.5 * IQR\n",
    "    \n",
    "    outliers = data_df[(data_df[column] < lower_bound) | (data_df[column] > upper_bound)]\n",
    "    return outliers\n",
    "\n",
    "def remove_outliers_iqr(data_df, column):\n",
    "    \"\"\"\n",
    "    Removes outliers in the specified column using the IQR method.\n",
    "    \n",
    "    Returns:\n",
    "        A new DataFrame with outlier rows removed.\n",
    "    \"\"\"\n",
    "    Q1 = data_df[column].quantile(0.25)\n",
    "    Q3 = data_df[column].quantile(0.75)\n",
    "    IQR = Q3 - Q1\n",
    "    lower_bound = Q1 - 1.5 * IQR\n",
    "    upper_bound = Q3 + 1.5 * IQR\n",
    "    \n",
    "    # Create a mask that keeps only values within the bounds.\n",
    "    mask = (data_df[column] >= lower_bound) & (data_df[column] <= upper_bound)\n",
    "    df_clean = data_df[mask].copy()\n",
    "    return df_clean"
   ]
  },
  {
   "cell_type": "code",
   "execution_count": 85,
   "id": "13b7ff27",
   "metadata": {},
   "outputs": [
    {
     "name": "stdout",
     "output_type": "stream",
     "text": [
      "\n",
      "Numeric columns to check for outliers: ['length', 'chroma_stft_mean', 'chroma_stft_var', 'rms_mean', 'rms_var', 'spectral_centroid_mean', 'spectral_centroid_var', 'spectral_bandwidth_mean', 'spectral_bandwidth_var', 'rolloff_mean', 'rolloff_var', 'zero_crossing_rate_mean', 'zero_crossing_rate_var', 'harmony_mean', 'harmony_var', 'perceptr_mean', 'perceptr_var', 'tempo', 'mfcc1_mean', 'mfcc1_var', 'mfcc2_mean', 'mfcc2_var', 'mfcc3_mean', 'mfcc3_var', 'mfcc4_mean', 'mfcc4_var', 'mfcc5_mean', 'mfcc5_var', 'mfcc6_mean', 'mfcc6_var', 'mfcc7_mean', 'mfcc7_var', 'mfcc8_mean', 'mfcc8_var', 'mfcc9_mean', 'mfcc9_var', 'mfcc10_mean', 'mfcc10_var', 'mfcc11_mean', 'mfcc11_var', 'mfcc12_mean', 'mfcc12_var', 'mfcc13_mean', 'mfcc13_var', 'mfcc14_mean', 'mfcc14_var', 'mfcc15_mean', 'mfcc15_var', 'mfcc16_mean', 'mfcc16_var', 'mfcc17_mean', 'mfcc17_var', 'mfcc18_mean', 'mfcc18_var', 'mfcc19_mean', 'mfcc19_var', 'mfcc20_mean', 'mfcc20_var']\n"
     ]
    }
   ],
   "source": [
    "# Visualize numeric columns for outliers\n",
    "numeric_cols = data_df.select_dtypes(include=[np.number]).columns.tolist()\n",
    "print(\"\\nNumeric columns to check for outliers:\", numeric_cols)"
   ]
  },
  {
   "cell_type": "code",
   "execution_count": 87,
   "id": "c9ae0a75",
   "metadata": {},
   "outputs": [
    {
     "data": {
      "image/png": "[encoded data removed]",
      "text/plain": [
       "<Figure size 800x400 with 1 Axes>"
      ]
     },
     "metadata": {},
     "output_type": "display_data"
    },
    {
     "name": "stdout",
     "output_type": "stream",
     "text": [
      "Detected 39 outlier(s) in 'chroma_stft_mean' using IQR method.\n"
     ]
    }
   ],
   "source": [
    "# Visualizing outliers for \"chroma_stft_mean\"\n",
    "if 'chroma_stft_mean' in numeric_cols:\n",
    "    plt.figure(figsize=(8,4))\n",
    "    sns.boxplot(x=data_df['chroma_stft_mean'])\n",
    "    plt.title(\"Boxplot for 'chroma_stft_mean'\")\n",
    "    plt.xlabel(\"chroma_stft_mean\")\n",
    "    plt.show()\n",
    "    \n",
    "    # Detect outliers for \"chroma_stft_mean\"\n",
    "    outliers_chroma = detect_outliers_iqr(data_df, 'chroma_stft_mean')\n",
    "    print(f\"Detected {len(outliers_chroma)} outlier(s) in 'chroma_stft_mean' using IQR method.\")\n"
   ]
  },
  {
   "cell_type": "code",
   "execution_count": 88,
   "id": "379d8a15",
   "metadata": {},
   "outputs": [
    {
     "name": "stdout",
     "output_type": "stream",
     "text": [
      "New shape after removing outliers from 'chroma_stft_mean': (9951, 60)\n"
     ]
    }
   ],
   "source": [
    " # Remove outliers from the 'chroma_stft_mean' column.\n",
    "data_df_clean = remove_outliers_iqr(data_df, 'chroma_stft_mean')\n",
    "print(\"New shape after removing outliers from 'chroma_stft_mean':\", data_df_clean.shape)"
   ]
  },
  {
   "cell_type": "code",
   "execution_count": 89,
   "id": "5a6a632c",
   "metadata": {},
   "outputs": [
    {
     "data": {
      "image/png": "[encoded data removed]",
      "text/plain": [
       "<Figure size 800x400 with 1 Axes>"
      ]
     },
     "metadata": {},
     "output_type": "display_data"
    },
    {
     "name": "stdout",
     "output_type": "stream",
     "text": [
      "Detected 1 outlier(s) in 'chroma_stft_mean' using IQR method.\n"
     ]
    }
   ],
   "source": [
    "# Visualizing after removing outliers for \"chroma_stft_mean\"\n",
    "if 'chroma_stft_mean' in numeric_cols:\n",
    "    plt.figure(figsize=(8,4))\n",
    "    sns.boxplot(x=data_df_clean['chroma_stft_mean'])\n",
    "    plt.title(\"Boxplot for 'chroma_stft_mean' after removing outliers\")\n",
    "    plt.xlabel(\"chroma_stft_mean after removing outliers\")\n",
    "    plt.show()\n",
    "    \n",
    "    outliers_chroma = detect_outliers_iqr(data_df_clean, 'chroma_stft_mean')\n",
    "    print(f\"Detected {len(outliers_chroma)} outlier(s) in 'chroma_stft_mean' using IQR method.\")"
   ]
  },
  {
   "cell_type": "markdown",
   "id": "52acba81",
   "metadata": {},
   "source": [
    "### Step 3: Data Exploration"
   ]
  },
  {
   "cell_type": "code",
   "execution_count": 90,
   "id": "abf4b5d3",
   "metadata": {},
   "outputs": [
    {
     "name": "stdout",
     "output_type": "stream",
     "text": [
      "\n",
      "Statistical summary of the clean dataset:\n",
      "        length  chroma_stft_mean  chroma_stft_var     rms_mean       rms_var  \\\n",
      "count   9951.0       9951.000000      9951.000000  9951.000000  9.951000e+03   \n",
      "mean   66149.0          0.378697         0.085035     0.130743  2.683310e-03   \n",
      "std        0.0          0.088895         0.009253     0.068147  3.589484e-03   \n",
      "min    66149.0          0.130597         0.043849     0.001539  1.257168e-07   \n",
      "25%    66149.0          0.315540         0.079916     0.083859  6.201435e-04   \n",
      "50%    66149.0          0.384476         0.085150     0.121355  1.496230e-03   \n",
      "75%    66149.0          0.441795         0.091120     0.176296  3.142374e-03   \n",
      "max    66149.0          0.631682         0.120964     0.442567  3.261522e-02   \n",
      "\n",
      "       spectral_centroid_mean  spectral_centroid_var  spectral_bandwidth_mean  \\\n",
      "count             9951.000000           9.951000e+03              9951.000000   \n",
      "mean              2195.408620           4.174557e+05              2240.748955   \n",
      "std                746.995541           4.349523e+05               543.462514   \n",
      "min                472.741636           8.118813e+02               653.389149   \n",
      "25%               1629.530122           1.239503e+05              1885.326526   \n",
      "50%               2206.580319           2.659934e+05              2229.762434   \n",
      "75%               2707.609709           5.636267e+05              2587.443339   \n",
      "max               4952.034726           4.794119e+06              3708.147554   \n",
      "\n",
      "       spectral_bandwidth_var  rolloff_mean  ...  mfcc16_mean   mfcc16_var  \\\n",
      "count             9951.000000   9951.000000  ...  9951.000000  9951.000000   \n",
      "mean            118448.024327   4560.675486  ...     1.434090    50.089623   \n",
      "std             100737.353009   1638.290836  ...     5.728564    34.434529   \n",
      "min               1183.520328    658.336276  ...   -26.850016     7.907540   \n",
      "25%              49134.878565   3374.915490  ...    -2.226879    29.661920   \n",
      "50%              90265.543478   4627.154072  ...     1.453730    41.767292   \n",
      "75%             158986.274709   5587.783391  ...     5.132592    59.333490   \n",
      "max             993913.760163   9487.446477  ...    39.144405   683.932556   \n",
      "\n",
      "       mfcc17_mean   mfcc17_var  mfcc18_mean   mfcc18_var  mfcc19_mean  \\\n",
      "count  9951.000000  9951.000000  9951.000000  9951.000000  9951.000000   \n",
      "mean     -4.196779    52.046581     0.724632    52.590895    -2.493154   \n",
      "std       5.673406    36.345883     5.172318    38.197563     5.116526   \n",
      "min     -27.809795     7.770461   -20.733809     7.749363   -27.448456   \n",
      "25%      -7.948629    29.973857    -2.536115    29.734602    -5.734113   \n",
      "50%      -4.430174    42.448708     0.723895    41.927757    -2.694283   \n",
      "75%      -0.723906    61.809235     3.870241    62.173441     0.523557   \n",
      "max      34.048843   529.363342    36.970322   629.729797    31.365425   \n",
      "\n",
      "        mfcc19_var  mfcc20_mean   mfcc20_var  \n",
      "count  9951.000000  9951.000000  9951.000000  \n",
      "mean     54.946984    -0.929940    57.357504  \n",
      "std      40.074665     5.239481    45.794203  \n",
      "min       8.700255   -31.903685     7.539318  \n",
      "25%      30.554414    -4.021256    30.095286  \n",
      "50%      43.491791    -1.037403    44.468216  \n",
      "75%      65.442066     2.195247    68.386280  \n",
      "max     738.606201    34.212101   910.473206  \n",
      "\n",
      "[8 rows x 58 columns]\n"
     ]
    }
   ],
   "source": [
    "# Statistical summaries of the clean dataset after outlier removal\n",
    "print(\"\\nStatistical summary of the clean dataset:\")\n",
    "print(data_df_clean.describe())"
   ]
  },
  {
   "cell_type": "code",
   "execution_count": 91,
   "id": "6b86f588",
   "metadata": {},
   "outputs": [
    {
     "data": {
      "image/png": "[encoded data removed]",
      "text/plain": [
       "<Figure size 800x600 with 1 Axes>"
      ]
     },
     "metadata": {},
     "output_type": "display_data"
    }
   ],
   "source": [
    "# Visualization: Distribution of genres\n",
    "plt.figure(figsize=(8,6))\n",
    "data_df_clean['label'].value_counts().plot(kind='bar')\n",
    "plt.title(\"Genre Distribution\")\n",
    "plt.xlabel(\"Genre\")\n",
    "plt.ylabel(\"Count\")\n",
    "plt.show()"
   ]
  },
  {
   "cell_type": "code",
   "execution_count": 92,
   "id": "e98c4108",
   "metadata": {},
   "outputs": [
    {
     "data": {
      "image/png": "[encoded data removed]",
      "text/plain": [
       "<Figure size 800x600 with 1 Axes>"
      ]
     },
     "metadata": {},
     "output_type": "display_data"
    }
   ],
   "source": [
    "# Visualization: For any specific numeric feature (e.g., 'tempo')\n",
    "if 'tempo' in data_df_clean.columns:\n",
    "    plt.figure(figsize=(8,6))\n",
    "    plt.hist(data_df_clean['tempo'], bins=20)\n",
    "    plt.title(\"Tempo Distribution\")\n",
    "    plt.xlabel(\"Tempo\")\n",
    "    plt.ylabel(\"Frequency\")\n",
    "    plt.show()"
   ]
  },
  {
   "cell_type": "markdown",
   "id": "8a3101ba",
   "metadata": {},
   "source": [
    "**Loading some samples per genre from the dataset**"
   ]
  },
  {
   "cell_type": "markdown",
   "id": "197be53d",
   "metadata": {},
   "source": [
    "Rock   "
   ]
  },
  {
   "cell_type": "code",
   "execution_count": null,
   "id": "84711104",
   "metadata": {},
   "outputs": [],
   "source": []
  },
  {
   "cell_type": "markdown",
   "id": "604e8186",
   "metadata": {},
   "source": [
    "Classical"
   ]
  },
  {
   "cell_type": "code",
   "execution_count": null,
   "id": "42fdcf57",
   "metadata": {},
   "outputs": [],
   "source": []
  },
  {
   "cell_type": "markdown",
   "id": "7943b19b",
   "metadata": {},
   "source": [
    "### Step 4: Feature Engineering"
   ]
  },
  {
   "cell_type": "code",
   "execution_count": 93,
   "id": "cc6a997f",
   "metadata": {},
   "outputs": [],
   "source": [
    "# Dropping 'filename' column\n",
    "columns_to_drop = []\n",
    "if 'filename' in data_df_clean.columns:\n",
    "    columns_to_drop.append('filename')"
   ]
  },
  {
   "cell_type": "code",
   "execution_count": 94,
   "id": "ff792d79",
   "metadata": {},
   "outputs": [
    {
     "name": "stdout",
     "output_type": "stream",
     "text": [
      "\n",
      "Dropped columns: ['filename']\n",
      "Data shape after dropping columns: (9990, 59)\n"
     ]
    }
   ],
   "source": [
    "if columns_to_drop:\n",
    "    data_df_clean = data_df.drop(columns=columns_to_drop)\n",
    "    print(f\"\\nDropped columns: {columns_to_drop}\")\n",
    "    print(\"Data shape after dropping columns:\", data_df_clean.shape)"
   ]
  },
  {
   "cell_type": "code",
   "execution_count": null,
   "id": "bb6b77a0",
   "metadata": {},
   "outputs": [
    {
     "data": {
      "text/plain": [
       "array([0, 0, 0, ..., 9, 9, 9])"
      ]
     },
     "execution_count": 96,
     "metadata": {},
     "output_type": "execute_result"
    }
   ],
   "source": [
    "# Feature extraction: \n",
    "labels = data_df_clean.iloc[:, -1] # The last column is the label\n",
    "convertor = LabelEncoder()\n",
    "y = convertor.fit_transform(labels)\n",
    "y"
   ]
  },
  {
   "cell_type": "code",
   "execution_count": null,
   "id": "f2fc864f",
   "metadata": {},
   "outputs": [
    {
     "name": "stdout",
     "output_type": "stream",
     "text": [
      "      length  chroma_stft_mean  chroma_stft_var  rms_mean   rms_var  \\\n",
      "0      66149          0.335406         0.091048  0.130405  0.003521   \n",
      "1      66149          0.343065         0.086147  0.112699  0.001450   \n",
      "2      66149          0.346815         0.092243  0.132003  0.004620   \n",
      "3      66149          0.363639         0.086856  0.132565  0.002448   \n",
      "4      66149          0.335579         0.088129  0.143289  0.001701   \n",
      "...      ...               ...              ...       ...       ...   \n",
      "9985   66149          0.349126         0.080515  0.050019  0.000097   \n",
      "9986   66149          0.372564         0.082626  0.057897  0.000088   \n",
      "9987   66149          0.347481         0.089019  0.052403  0.000701   \n",
      "9988   66149          0.387527         0.084815  0.066430  0.000320   \n",
      "9989   66149          0.369293         0.086759  0.050524  0.000067   \n",
      "\n",
      "      spectral_centroid_mean  spectral_centroid_var  spectral_bandwidth_mean  \\\n",
      "0                1773.065032          167541.630869              1972.744388   \n",
      "1                1816.693777           90525.690866              2010.051501   \n",
      "2                1788.539719          111407.437613              2084.565132   \n",
      "3                1655.289045          111952.284517              1960.039988   \n",
      "4                1630.656199           79667.267654              1948.503884   \n",
      "...                      ...                    ...                      ...   \n",
      "9985             1499.083005          164266.886443              1718.707215   \n",
      "9986             1847.965128          281054.935973              1906.468492   \n",
      "9987             1346.157659          662956.246325              1561.859087   \n",
      "9988             2084.515327          203891.039161              2018.366254   \n",
      "9989             1634.330126          411429.169769              1867.422378   \n",
      "\n",
      "      spectral_bandwidth_var  rolloff_mean  ...  mfcc16_mean  mfcc16_var  \\\n",
      "0              117335.771563   3714.560359  ...    -2.853603   39.687145   \n",
      "1               65671.875673   3869.682242  ...     4.074709   64.748276   \n",
      "2               75124.921716   3997.639160  ...     4.806280   67.336563   \n",
      "3               82913.639269   3568.300218  ...    -1.359111   47.739452   \n",
      "4               60204.020268   3469.992864  ...     2.092937   30.336359   \n",
      "...                      ...           ...  ...          ...         ...   \n",
      "9985            85931.574523   3015.559458  ...     5.773784   42.485981   \n",
      "9986            99727.037054   3746.694524  ...     2.074155   32.415203   \n",
      "9987           138762.841945   2442.362154  ...    -1.005473   78.228149   \n",
      "9988            22860.992562   4313.266226  ...     4.123402   28.323744   \n",
      "9989           119722.211518   3462.042142  ...     1.342274   38.801735   \n",
      "\n",
      "      mfcc17_mean  mfcc17_var  mfcc18_mean  mfcc18_var  mfcc19_mean  \\\n",
      "0       -3.241280   36.488243     0.722209   38.099152    -5.050335   \n",
      "1       -6.055294   40.677654     0.159015   51.264091    -2.837699   \n",
      "2       -1.768610   28.348579     2.378768   45.717648    -1.938424   \n",
      "3       -3.841155   28.337118     1.218588   34.770935    -3.580352   \n",
      "4        0.664582   45.880913     1.689446   51.363583    -3.392489   \n",
      "...           ...         ...          ...         ...          ...   \n",
      "9985    -9.094270   38.326839    -4.246976   31.049839    -5.625813   \n",
      "9986   -12.375726   66.418587    -3.081278   54.414265   -11.960546   \n",
      "9987    -2.524483   21.778994     4.809936   25.980829     1.775686   \n",
      "9988    -5.363541   17.209942     6.462601   21.442928     2.354765   \n",
      "9989   -11.598399   58.983097    -0.178517   55.761299    -6.903252   \n",
      "\n",
      "      mfcc19_var  mfcc20_mean  mfcc20_var  \n",
      "0      33.618073    -0.243027   43.771767  \n",
      "1      97.030830     5.784063   59.943081  \n",
      "2      53.050835     2.517375   33.105122  \n",
      "3      50.836224     3.630866   32.023678  \n",
      "4      26.738789     0.536961   29.146694  \n",
      "...          ...          ...         ...  \n",
      "9985   48.804092     1.818823   38.966969  \n",
      "9986   63.452255     0.428857   18.697033  \n",
      "9987   48.582378    -0.299545   41.586990  \n",
      "9988   24.843613     0.675824   12.787750  \n",
      "9989   39.485901    -3.412534   31.727489  \n",
      "\n",
      "[9990 rows x 58 columns]\n"
     ]
    }
   ],
   "source": [
    "# Printing the first 5 labels\n",
    "print(data_df_clean.iloc[:, :-1])"
   ]
  },
  {
   "cell_type": "code",
   "execution_count": 102,
   "id": "398d9d00",
   "metadata": {},
   "outputs": [
    {
     "name": "stdout",
     "output_type": "stream",
     "text": [
      "\n",
      "Feature matrix shape: (9990, 58)\n",
      "Labels shape: (9990,)\n"
     ]
    }
   ],
   "source": [
    "# Scaling features\n",
    "\n",
    "scaler = StandardScaler()\n",
    "x = scaler.fit_transform(np.array(data_df_clean.iloc[:, :-1], dtype = float))\n",
    "print(\"\\nFeature matrix shape:\", x.shape)\n",
    "print(\"Labels shape:\", y.shape)"
   ]
  },
  {
   "cell_type": "code",
   "execution_count": 103,
   "id": "1e4db327",
   "metadata": {},
   "outputs": [
    {
     "name": "stdout",
     "output_type": "stream",
     "text": [
      "\n",
      "Training feature shape: (6693, 58)\n",
      "Testing feature shape: (3297, 58)\n",
      "Training labels shape: (6693,)\n",
      "Testing labels shape: (3297,)\n"
     ]
    }
   ],
   "source": [
    "# Split the data into training and testing sets\n",
    "x_train, x_test, y_train, y_test = train_test_split(x, y, test_size=0.33, random_state=42)\n",
    "print(\"\\nTraining feature shape:\", x_train.shape)\n",
    "print(\"Testing feature shape:\", x_test.shape)\n",
    "print(\"Training labels shape:\", y_train.shape)\n",
    "print(\"Testing labels shape:\", y_test.shape)\n"
   ]
  },
  {
   "cell_type": "markdown",
   "id": "99453b90",
   "metadata": {},
   "source": [
    "### Step 5: Model Selection"
   ]
  },
  {
   "cell_type": "code",
   "execution_count": null,
   "id": "f6ff0663",
   "metadata": {},
   "outputs": [],
   "source": []
  },
  {
   "cell_type": "code",
   "execution_count": null,
   "id": "037226e7",
   "metadata": {},
   "outputs": [],
   "source": []
  },
  {
   "cell_type": "markdown",
   "id": "ee7d19c8",
   "metadata": {},
   "source": [
    "### Step 6: Hyperparameter Tuning"
   ]
  },
  {
   "cell_type": "code",
   "execution_count": null,
   "id": "a3df04cd",
   "metadata": {},
   "outputs": [],
   "source": []
  },
  {
   "cell_type": "code",
   "execution_count": null,
   "id": "7a55a283",
   "metadata": {},
   "outputs": [],
   "source": []
  },
  {
   "cell_type": "markdown",
   "id": "b186641d",
   "metadata": {},
   "source": [
    "### Step 7: Save Models (Pickle Files)"
   ]
  },
  {
   "cell_type": "markdown",
   "id": "b4381c7f",
   "metadata": {},
   "source": []
  },
  {
   "cell_type": "markdown",
   "id": "bf5ffeb0",
   "metadata": {},
   "source": [
    "### Step 8: Web Application (Flask or Streamlit)"
   ]
  },
  {
   "cell_type": "markdown",
   "id": "56409e87",
   "metadata": {},
   "source": []
  }
 ],
 "metadata": {
  "kernelspec": {
   "display_name": "Python 3",
   "language": "python",
   "name": "python3"
  },
  "language_info": {
   "codemirror_mode": {
    "name": "ipython",
    "version": 3
   },
   "file_extension": ".py",
   "mimetype": "text/x-python",
   "name": "python",
   "nbconvert_exporter": "python",
   "pygments_lexer": "ipython3",
   "version": "3.11.5"
  }
 },
 "nbformat": 4,
 "nbformat_minor": 5
}
